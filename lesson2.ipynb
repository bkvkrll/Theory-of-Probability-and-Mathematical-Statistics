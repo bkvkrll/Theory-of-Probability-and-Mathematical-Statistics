{
  "nbformat": 4,
  "nbformat_minor": 0,
  "metadata": {
    "colab": {
      "name": "lesson2.ipynb",
      "provenance": [],
      "collapsed_sections": [],
      "authorship_tag": "ABX9TyOtorqwwLi3Wwb0FRHVCIRX",
      "include_colab_link": true
    },
    "kernelspec": {
      "name": "python3",
      "display_name": "Python 3"
    },
    "language_info": {
      "name": "python"
    }
  },
  "cells": [
    {
      "cell_type": "markdown",
      "metadata": {
        "id": "view-in-github",
        "colab_type": "text"
      },
      "source": [
        "<a href=\"https://colab.research.google.com/github/bkvkrll/Theory-of-Probability-and-Mathematical-Statistics/blob/main/lesson2.ipynb\" target=\"_parent\"><img src=\"https://colab.research.google.com/assets/colab-badge.svg\" alt=\"Open In Colab\"/></a>"
      ]
    },
    {
      "cell_type": "markdown",
      "metadata": {
        "id": "dLRquAcG_9sA"
      },
      "source": [
        "Задача 1\n",
        "\n",
        "Контрольная работа состоит из пяти вопросов. На каждый вопрос приведено четыре варианта ответа, один из которых правильный. Составьте закон распределения числа правильных ответов при простом угадывании. Найдите M(X), D(X)."
      ]
    },
    {
      "cell_type": "markdown",
      "metadata": {
        "id": "6uDgNsmUAK5B"
      },
      "source": [
        ""
      ]
    },
    {
      "cell_type": "code",
      "metadata": {
        "id": "61ZzPX1B_0KJ"
      },
      "source": [
        "import numpy as np\n",
        "from math import factorial"
      ],
      "execution_count": 1,
      "outputs": []
    },
    {
      "cell_type": "code",
      "metadata": {
        "colab": {
          "base_uri": "https://localhost:8080/"
        },
        "id": "LVO-tU2gCSEO",
        "outputId": "500664e3-acd6-4e65-8406-78839e39bd76"
      },
      "source": [
        "n=5 #количество вопросов\n",
        "k=4 #варианты ответов\n",
        "p=0.25 #вероятность правильно угадать один ответ из 4-х\n",
        "q=0 #сумма вероятностей\n",
        "for i in range(n+1):\n",
        "  b=(factorial(n) / (factorial(i) * factorial(n - i)))*(p**i)*((1 - p)**(n-i))\n",
        "  q=q+b\n",
        "  print(f'b{i}={b}')\n",
        "print(f'Сумма вероятностей {q}')\n",
        "print(f'Матожидание {n*p}')\n",
        "print(f'Дисперсия {n*p*(1-p)}')"
      ],
      "execution_count": 2,
      "outputs": [
        {
          "output_type": "stream",
          "name": "stdout",
          "text": [
            "b0=0.2373046875\n",
            "b1=0.3955078125\n",
            "b2=0.263671875\n",
            "b3=0.087890625\n",
            "b4=0.0146484375\n",
            "b5=0.0009765625\n",
            "Сумма вероятностей 1.0\n",
            "Матожидание 1.25\n",
            "Дисперсия 0.9375\n"
          ]
        }
      ]
    },
    {
      "cell_type": "markdown",
      "metadata": {
        "id": "Pa3x3B47CIuc"
      },
      "source": [
        "Задача 2\n",
        "\n",
        "Вероятность поймать рыбу при одном забрасывании удочки равна 0.01. Какова вероятность того, что число пойманных рыб при 200 забросах удочки будет не менее 5 и не более 10?"
      ]
    },
    {
      "cell_type": "code",
      "metadata": {
        "colab": {
          "base_uri": "https://localhost:8080/"
        },
        "id": "V9fDMCfwCMBB",
        "outputId": "44985401-59b5-4789-cc93-d6a3542f7a22"
      },
      "source": [
        "n=200 #количество забросов\n",
        "p = 0.01 #вероятность поймать при одном забрасывании\n",
        "min_k = 5 # минимальное количество рыб\n",
        "max_k = 10 # максимальное количество рыб\n",
        "q=0 #вероятность поймать от 5 до 10 рыб\n",
        "for i in range(min_k,max_k+1):\n",
        "  b=(factorial(n) / (factorial(i) * factorial(n - i)))*(p**i)*((1 - p)**(n-i))\n",
        "  q=q+b\n",
        "  print(f'b{i}={b}')\n",
        "print(f'{q}')"
      ],
      "execution_count": 3,
      "outputs": [
        {
          "output_type": "stream",
          "name": "stdout",
          "text": [
            "b5=0.03572335672160829\n",
            "b6=0.011727364580325954\n",
            "b7=0.0032829851783307863\n",
            "b8=0.0008000203780528306\n",
            "b9=0.000172394963620812\n",
            "b10=3.326003843593443e-05\n",
            "0.051739381860374606\n"
          ]
        }
      ]
    }
  ]
}