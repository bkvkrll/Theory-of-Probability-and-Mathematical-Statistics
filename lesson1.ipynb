{
  "nbformat": 4,
  "nbformat_minor": 0,
  "metadata": {
    "colab": {
      "name": "lesson1.ipynb",
      "provenance": [],
      "collapsed_sections": [],
      "authorship_tag": "ABX9TyMWzlPXmPPhYOgYndNbaKAg",
      "include_colab_link": true
    },
    "kernelspec": {
      "name": "python3",
      "display_name": "Python 3"
    },
    "language_info": {
      "name": "python"
    }
  },
  "cells": [
    {
      "cell_type": "markdown",
      "metadata": {
        "id": "view-in-github",
        "colab_type": "text"
      },
      "source": [
        "<a href=\"https://colab.research.google.com/github/bkvkrll/Theory-of-Probability-and-Mathematical-Statistics/blob/main/lesson1.ipynb\" target=\"_parent\"><img src=\"https://colab.research.google.com/assets/colab-badge.svg\" alt=\"Open In Colab\"/></a>"
      ]
    },
    {
      "cell_type": "markdown",
      "metadata": {
        "id": "_Y38ThEIHW3s"
      },
      "source": [
        "Задача 1\n",
        "\n",
        "Группа студентов изучает 10 различных дисциплин. Сколькими способами можно составить расписание на понедельник, если в этот день должно быть 4 разных занятия?"
      ]
    },
    {
      "cell_type": "code",
      "metadata": {
        "id": "Xfa5G57tG6VE"
      },
      "source": [
        "\n",
        "import numpy as np\n",
        "from math import factorial"
      ],
      "execution_count": 25,
      "outputs": []
    },
    {
      "cell_type": "code",
      "metadata": {
        "colab": {
          "base_uri": "https://localhost:8080/"
        },
        "id": "Am-nixK_Hk7l",
        "outputId": "a848ab0a-54e8-47b3-b823-af358ae78c5f"
      },
      "source": [
        "n = 10 #Дисциплины\n",
        "k = 4 #Количество занятий \n",
        "print(f' Количество способов {factorial(n) / factorial(n - k)}')"
      ],
      "execution_count": 26,
      "outputs": [
        {
          "output_type": "stream",
          "name": "stdout",
          "text": [
            " Количество способов 5040.0\n"
          ]
        }
      ]
    },
    {
      "cell_type": "markdown",
      "metadata": {
        "id": "w3RDF46uIXsB"
      },
      "source": [
        "Задача 2\n",
        "\n",
        "Из колоды в 52 карты вынимают случайным образом 4 карты. Найти число исходов, соответствующих тому, что был вытянут хотя бы один туз."
      ]
    },
    {
      "cell_type": "code",
      "metadata": {
        "colab": {
          "base_uri": "https://localhost:8080/"
        },
        "id": "RGPcoX0xIacw",
        "outputId": "bdfa2679-d8c5-4d4c-90df-0cdea249f833"
      },
      "source": [
        "n=52 #количество карт в колоде\n",
        "k=4 #сколько берется карт из колоды\n",
        "print(f' Число исходов {(factorial(n) /(factorial(k)* factorial(n - k))) - (factorial(n-k) /(factorial(k)* factorial(n - 2*k))) }')\n"
      ],
      "execution_count": 27,
      "outputs": [
        {
          "output_type": "stream",
          "name": "stdout",
          "text": [
            " Число исходов 76145.0\n"
          ]
        }
      ]
    },
    {
      "cell_type": "markdown",
      "metadata": {
        "id": "hdVtA_IzLVVN"
      },
      "source": [
        "Задача 3\n",
        "\n",
        "Семь человек рассаживаются наудачу на скамейке. Какова вероятность того, что два определённых человека будут сидеть рядом?"
      ]
    },
    {
      "cell_type": "markdown",
      "metadata": {
        "id": "FEs-nbPaLxcJ"
      },
      "source": [
        "Формула для вероятности P=m/n\n",
        "\n",
        "Всего пар соседних скамеек - 6. Каждая пара человек может сесть двумя способами. Все остальные 5 любыми, то есть 5! способами."
      ]
    },
    {
      "cell_type": "code",
      "metadata": {
        "id": "1Gl-RNovLbws"
      },
      "source": [
        "m = 6*2*factorial(5)\n",
        "n = factorial(7)"
      ],
      "execution_count": 28,
      "outputs": []
    },
    {
      "cell_type": "code",
      "metadata": {
        "colab": {
          "base_uri": "https://localhost:8080/"
        },
        "id": "pYimuCZ4L9g6",
        "outputId": "a4bc96c8-83c6-4002-f3c8-1e8a7adeb243"
      },
      "source": [
        "A = m/n\n",
        "print(f' Верноятность что два определённых человека будут сидеть рядом {A}')"
      ],
      "execution_count": 29,
      "outputs": [
        {
          "output_type": "stream",
          "name": "stdout",
          "text": [
            " Верноятность что два определённых человека будут сидеть рядом 0.2857142857142857\n"
          ]
        }
      ]
    },
    {
      "cell_type": "markdown",
      "metadata": {
        "id": "SG5P9w11MGAZ"
      },
      "source": [
        "Задача 4\n",
        "\n",
        "Из 60 вопросов, входящих в экзаменационные билеты, студент знает 50. Какова вероятность того, что среди трёх наугад выбранных вопросов студент знает: а) все? б) два?"
      ]
    },
    {
      "cell_type": "code",
      "metadata": {
        "id": "mYcLZh3gMHTJ"
      },
      "source": [
        "n=60 #количество вопросов\n",
        "k=50 #знает студент\n",
        "i=3 #сколько знает"
      ],
      "execution_count": 30,
      "outputs": []
    },
    {
      "cell_type": "code",
      "metadata": {
        "id": "P0LoY534Mz5P"
      },
      "source": [
        "#общее количество сочетаний\n",
        "\n",
        "A = factorial(n)/(factorial(n-i) * factorial(i))"
      ],
      "execution_count": 31,
      "outputs": []
    },
    {
      "cell_type": "code",
      "metadata": {
        "id": "2WJTBSG3NbJv"
      },
      "source": [
        "#количество сочетаний с вопросами которые знает\n",
        "B = factorial(k)/(factorial(k-i) * factorial(i))"
      ],
      "execution_count": 32,
      "outputs": []
    },
    {
      "cell_type": "code",
      "metadata": {
        "colab": {
          "base_uri": "https://localhost:8080/"
        },
        "id": "RSdo169MNrIV",
        "outputId": "fb285ee7-7a57-4615-d586-e5fc3c0a7d02"
      },
      "source": [
        "\n",
        "print(f'Вероятность, что знает все: {B/A}')"
      ],
      "execution_count": 33,
      "outputs": [
        {
          "output_type": "stream",
          "name": "stdout",
          "text": [
            "Вероятность, что знает все: 0.5727644652250146\n"
          ]
        }
      ]
    },
    {
      "cell_type": "code",
      "metadata": {
        "colab": {
          "base_uri": "https://localhost:8080/"
        },
        "id": "dHZHqCkQOIR9",
        "outputId": "02489941-8784-4615-8e76-dee06203884c"
      },
      "source": [
        "j=2 #сколько знает\n",
        "C = factorial(n)/(factorial(n-i) * factorial(i))\n",
        "D = factorial(k)/(factorial(k-j) * factorial(j))\n",
        "E = factorial(n-k)/(factorial(n-k-(i-j)) * factorial(i-j))\n",
        "print(f'Вероятность, что знает два вопроса: {(D*E)/C}')"
      ],
      "execution_count": 34,
      "outputs": [
        {
          "output_type": "stream",
          "name": "stdout",
          "text": [
            "Вероятность, что знает два вопроса: 0.35797779076563413\n"
          ]
        }
      ]
    },
    {
      "cell_type": "markdown",
      "metadata": {
        "id": "eqdLRjkiO7Hk"
      },
      "source": [
        "Задача 5\n",
        "\n",
        "Бросается игральная кость. Пусть событие A - появление чётного числа, событие B - появление числа больше трёх. Являются ли эти события независимыми?"
      ]
    },
    {
      "cell_type": "markdown",
      "metadata": {
        "id": "nc0ww34sPFhb"
      },
      "source": [
        "События являются зависимыми так как при наступлениb события А  изменяется вероятность события B "
      ]
    },
    {
      "cell_type": "markdown",
      "metadata": {
        "id": "i3LjI41BPN8q"
      },
      "source": [
        "Задача 6 (Дополнительно)\n",
        "\n",
        "Допустим, имеется некоторая очень редкая болезнь (поражает 0.1 % населения). Вы приходите к врачу, вам делают тест на эту болезнь, и тест оказывается положительным. Врач говорит вам, что этот тест верно выявляет 99 % больных этой болезнью и всего лишь в 1 % случаев даёт ложный положительный ответ.\n",
        "\n",
        "Вопрос: какова вероятность, что вы действительно больны ей?\n",
        "\n",
        "Подсказка: вновь используйте формулу Байеса с раскрытием знаменателя с помощью формулы полной вероятности."
      ]
    },
    {
      "cell_type": "code",
      "metadata": {
        "colab": {
          "base_uri": "https://localhost:8080/"
        },
        "id": "1U3odItwPRjH",
        "outputId": "741df2eb-0d80-4943-dc16-82296fd7f85a"
      },
      "source": [
        "#A - вероятность положительного теста на эту болезнь, B - вероятность заболеть этой болезнью\n",
        "i=0.99\n",
        "j=0.001\n",
        "k=0.01\n",
        "A = (i*j)+(k*(1-j))\n",
        "print(f'Вероятность положительного теста {A}')"
      ],
      "execution_count": 35,
      "outputs": [
        {
          "output_type": "stream",
          "name": "stdout",
          "text": [
            "Вероятность положительного теста 0.01098\n"
          ]
        }
      ]
    },
    {
      "cell_type": "code",
      "metadata": {
        "colab": {
          "base_uri": "https://localhost:8080/"
        },
        "id": "UywJnzCmRQTT",
        "outputId": "241bcb96-8d46-4746-de9a-9b17937f0c35"
      },
      "source": [
        "print(f'Вероятность быть больным при положительном тесте: {i*j/A}')"
      ],
      "execution_count": 36,
      "outputs": [
        {
          "output_type": "stream",
          "name": "stdout",
          "text": [
            "Вероятность быть больным при положительном тесте: 0.09016393442622951\n"
          ]
        }
      ]
    }
  ]
}