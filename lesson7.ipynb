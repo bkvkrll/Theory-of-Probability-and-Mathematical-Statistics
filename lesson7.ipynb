{
  "nbformat": 4,
  "nbformat_minor": 0,
  "metadata": {
    "colab": {
      "name": "lesson7.ipynb",
      "provenance": [],
      "collapsed_sections": [],
      "authorship_tag": "ABX9TyObkZ9z0EY+Qk/SUcNhEF9d",
      "include_colab_link": true
    },
    "kernelspec": {
      "name": "python3",
      "display_name": "Python 3"
    },
    "language_info": {
      "name": "python"
    }
  },
  "cells": [
    {
      "cell_type": "markdown",
      "metadata": {
        "id": "view-in-github",
        "colab_type": "text"
      },
      "source": [
        "<a href=\"https://colab.research.google.com/github/bkvkrll/Theory-of-Probability-and-Mathematical-Statistics/blob/main/lesson7.ipynb\" target=\"_parent\"><img src=\"https://colab.research.google.com/assets/colab-badge.svg\" alt=\"Open In Colab\"/></a>"
      ]
    },
    {
      "cell_type": "code",
      "metadata": {
        "id": "Ecc5qrrrr-co"
      },
      "source": [
        "import numpy as np\n",
        "import pandas as pd\n",
        "import matplotlib.pyplot as plt\n",
        "from scipy import stats\n",
        "from sklearn.metrics import r2_score\n",
        "from scipy.stats import linregress\n",
        "%matplotlib inline"
      ],
      "execution_count": 51,
      "outputs": []
    },
    {
      "cell_type": "markdown",
      "metadata": {
        "id": "GUA6i-QtsWxp"
      },
      "source": [
        "Задача 1\n",
        "\n",
        "Дана матрица объект-признак\n",
        "\n",
        "X = [[ 1.22401313, 2.30868478, 3.03636353, 2.69287214],\n",
        "[-0.18757272, 1.30337355, 5.12093014, 3.46363202],\n",
        "[-0.81094525, 1.82463398, 5.79686488, 1.86159445],\n",
        "[ 0.75129018, 2.67392052, 3.65529809, 1.66746094],\n",
        "[ 0.00972362, 1.97367255, 2.50594319, 1.69755173],\n",
        "[-0.62972637, 0.77750764, 2.84124027, 4.54410559],\n",
        "[ 2.29536229, 1.81206697, 1.95026215, 1.51874636],\n",
        "[ 0.0920418 , 2.26971361, 7.47708735, 2.61081203],\n",
        "[ 2.39252799, 3.17563985, 3.61420599, 5.10773362],\n",
        "[ 0.54983815, 2.87988651, 1.65752765, 1.59635987]]\n",
        "\n",
        "и значения целевой переменной\n",
        "\n",
        "y = [ 9.26193358, 9.700363 , 8.67214805, 8.74796974, 6.18689108,\n",
        "7.53312713, 7.57643777, 12.44965478, 14.29010746, 6.68361218]\n",
        "\n",
        "Подберите два признака (из четырёх) так, чтобы уровень линейной зависимости целевой переменной от значений этих признаков был максимальным. Другими словами, модель линейной регрессии на этих признаках должна давать максимальный R2. Например, берем признак х1 и х3 и строим модель y = b0 + b1 * x1 + b2 * x3, затем признаки x2 и x1 и тд\n",
        "Является ли значимым получившееся уравнение регрессии?"
      ]
    },
    {
      "cell_type": "code",
      "metadata": {
        "id": "SG70g8cisYAi"
      },
      "source": [
        "x = pd.DataFrame([[ 1.22401313, 2.30868478, 3.03636353, 2.69287214], [-0.18757272, 1.30337355, 5.12093014, 3.46363202], [-0.81094525, 1.82463398, 5.79686488, 1.86159445], [ 0.75129018, 2.67392052, 3.65529809, 1.66746094], [ 0.00972362, 1.97367255, 2.50594319, 1.69755173], [-0.62972637, 0.77750764, 2.84124027, 4.54410559], [ 2.29536229, 1.81206697, 1.95026215, 1.51874636], [ 0.0920418 , 2.26971361, 7.47708735, 2.61081203], [ 2.39252799, 3.17563985, 3.61420599, 5.10773362], [ 0.54983815, 2.87988651, 1.65752765, 1.59635987]])\n",
        "y = pd.DataFrame([ 9.26193358, 9.700363 , 8.67214805, 8.74796974, 6.18689108, 7.53312713, 7.57643777, 12.44965478, 14.29010746, 6.68361218])\n",
        "x1=x[0]\n",
        "x2=x[1]\n",
        "x3=x[2]\n",
        "x4=x[3]\n"
      ],
      "execution_count": 52,
      "outputs": []
    },
    {
      "cell_type": "code",
      "metadata": {
        "id": "wdF8xK1mPNBp"
      },
      "source": [
        "def rsquared(x, y):\n",
        "    slope, intercept, r_value, p_value, std_err = scipy.stats.linregress(x, y)\n",
        "    return r_value**2"
      ],
      "execution_count": 53,
      "outputs": []
    },
    {
      "cell_type": "markdown",
      "metadata": {
        "id": "YXgI_wlOsYZJ"
      },
      "source": [
        "Задача 2\n",
        "\n",
        "Даны значения величины заработной платы заемщиков банка (salary) и значения их поведенческого кредитного скоринга (scoring):\n",
        "\n",
        "salary = [35, 45, 190, 200, 40, 70, 54, 150, 120, 110]\n",
        "scoring = [401, 574, 874, 919, 459, 739, 653, 902, 746, 832]\n",
        "\n",
        "Возьмём в качестве признака значение salary, а в качестве целевой переменной - scoring.\n",
        "\n",
        "Найдите коэффициенты линейной регрессии с помощью формул для парной регрессии, а затем с помощью метода наименьших квадратов.\n",
        "Постройте scatter plot по данным и отметьте на нём прямую линейной регрессии, полученную в п. 1.\n",
        "Посчитайте коэффициент детерминации.\n",
        "Оцените построенное уравнение регрессии с помощью F-критерия Фишера.\n",
        "(доп) Посчитать среднюю ошибку аппроксимации"
      ]
    },
    {
      "cell_type": "code",
      "metadata": {
        "id": "XQ_yObz6sch5"
      },
      "source": [
        "salary = np.array([35, 45, 190, 200, 40, 70, 54, 150, 120, 110])\n",
        "scoring = np.array([401, 574, 874, 919, 459, 739, 653, 902, 746, 832])"
      ],
      "execution_count": 54,
      "outputs": []
    },
    {
      "cell_type": "code",
      "metadata": {
        "colab": {
          "base_uri": "https://localhost:8080/"
        },
        "id": "kM-R_Taxs2Bt",
        "outputId": "ea33a0f0-50bf-4d4d-ddee-2add865eb80f"
      },
      "source": [
        "#Парная регрессия\n",
        "b1 = (np.mean(salary * scoring ) - np.mean(salary) * np.mean(scoring)) / (np.mean(salary ** 2) - np.mean(salary) ** 2)\n",
        "print(f'Коэффицент b1 равен {b1}')\n",
        "b0 = np.mean(scoring) - b1 * np.mean(salary)\n",
        "print(f'Коэффицент b0 равен {b0}')"
      ],
      "execution_count": 55,
      "outputs": [
        {
          "output_type": "stream",
          "name": "stdout",
          "text": [
            "Коэффицент b1 равен 2.620538882402765\n",
            "Коэффицент b0 равен 444.1773573243596\n"
          ]
        }
      ]
    },
    {
      "cell_type": "code",
      "metadata": {
        "colab": {
          "base_uri": "https://localhost:8080/"
        },
        "id": "kKlaq6SptcAs",
        "outputId": "ea055e9b-b959-46eb-96f2-72532cbdcd65"
      },
      "source": [
        "#Метод наименьших квадратов\n",
        "x2 = pd.DataFrame(salary)\n",
        "y2 = pd.DataFrame(scoring)\n",
        "x2.shape\n",
        "a = np.ones((x2.shape[0], 1))\n",
        "x2 = np.hstack((a, x2))\n",
        "x2.shape\n",
        "XTX = x2.T.dot(x2)\n",
        "np.linalg.det(XTX)\n",
        "XTX_inv = np.linalg.inv(XTX)\n",
        "b = XTX_inv.dot(x2.T).dot(y2)\n",
        "print(b)"
      ],
      "execution_count": 56,
      "outputs": [
        {
          "output_type": "stream",
          "name": "stdout",
          "text": [
            "[[444.17735732]\n",
            " [  2.62053888]]\n"
          ]
        }
      ]
    },
    {
      "cell_type": "code",
      "metadata": {
        "colab": {
          "base_uri": "https://localhost:8080/",
          "height": 282
        },
        "id": "6N4t6Nq5uK9h",
        "outputId": "659b0aed-7e7e-4a43-bada-0ea5b1e0073e"
      },
      "source": [
        "ox = salary\n",
        "oy = b0 + b1 * ox\n",
        "\n",
        "plt.scatter(salary, scoring)\n",
        "plt.plot(ox, oy, color='red')"
      ],
      "execution_count": 57,
      "outputs": [
        {
          "output_type": "execute_result",
          "data": {
            "text/plain": [
              "[<matplotlib.lines.Line2D at 0x7f5d5e0bfbd0>]"
            ]
          },
          "metadata": {},
          "execution_count": 57
        },
        {
          "output_type": "display_data",
          "data": {
            "image/png": "[encoded data removed]",
            "text/plain": [
              "<Figure size 432x288 with 1 Axes>"
            ]
          },
          "metadata": {
            "needs_background": "light"
          }
        }
      ]
    },
    {
      "cell_type": "code",
      "metadata": {
        "colab": {
          "base_uri": "https://localhost:8080/"
        },
        "id": "hnhSzbuouZTi",
        "outputId": "6841778f-5357-4206-a7c8-bfbb90983a8b"
      },
      "source": [
        "pred_scoring = b0 + b1 * salary\n",
        "R1 = pred_scoring.var() / scoring.var()\n",
        "print(f'Коэффициент детерминации: {R1}')"
      ],
      "execution_count": 58,
      "outputs": [
        {
          "output_type": "stream",
          "name": "stdout",
          "text": [
            "Коэффициент детерминации: 0.7876386635293678\n"
          ]
        }
      ]
    },
    {
      "cell_type": "code",
      "metadata": {
        "colab": {
          "base_uri": "https://localhost:8080/"
        },
        "id": "KYHnKqlJvLp6",
        "outputId": "ae7b3b67-61d4-4062-bfad-5218d99d948d"
      },
      "source": [
        "k1 = 1\n",
        "k2 = salary.shape[0] - k1 -1\n",
        "T1 = (R1 / (1 - R1)) * (k2 / k1)\n",
        "T1"
      ],
      "execution_count": 59,
      "outputs": [
        {
          "output_type": "execute_result",
          "data": {
            "text/plain": [
              "29.67164085966437"
            ]
          },
          "metadata": {},
          "execution_count": 59
        }
      ]
    },
    {
      "cell_type": "code",
      "metadata": {
        "colab": {
          "base_uri": "https://localhost:8080/"
        },
        "id": "VUybaX3GvQK0",
        "outputId": "cd6298ab-897c-4b69-b4b5-624a5b666572"
      },
      "source": [
        "alpha = 0.05\n",
        "F_crit = stats.f.ppf(1 - alpha, k1, k2)\n",
        "F_crit"
      ],
      "execution_count": 60,
      "outputs": [
        {
          "output_type": "execute_result",
          "data": {
            "text/plain": [
              "5.317655071578714"
            ]
          },
          "metadata": {},
          "execution_count": 60
        }
      ]
    }
  ]
}