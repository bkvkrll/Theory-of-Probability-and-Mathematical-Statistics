{
  "nbformat": 4,
  "nbformat_minor": 0,
  "metadata": {
    "colab": {
      "name": "lesson4.ipynb",
      "provenance": [],
      "authorship_tag": "ABX9TyPxMe3LuuOWtC69t+qtkSkO",
      "include_colab_link": true
    },
    "kernelspec": {
      "name": "python3",
      "display_name": "Python 3"
    },
    "language_info": {
      "name": "python"
    }
  },
  "cells": [
    {
      "cell_type": "markdown",
      "metadata": {
        "id": "view-in-github",
        "colab_type": "text"
      },
      "source": [
        "<a href=\"https://colab.research.google.com/github/bkvkrll/Theory-of-Probability-and-Mathematical-Statistics/blob/main/lesson4.ipynb\" target=\"_parent\"><img src=\"https://colab.research.google.com/assets/colab-badge.svg\" alt=\"Open In Colab\"/></a>"
      ]
    },
    {
      "cell_type": "code",
      "metadata": {
        "id": "9A1B0EkmgZQW"
      },
      "source": [
        "import pandas as pd\n",
        "import numpy as np\n",
        "from scipy.optimize import fsolve\n",
        "import scipy.stats as ss"
      ],
      "execution_count": 7,
      "outputs": []
    },
    {
      "cell_type": "markdown",
      "metadata": {
        "id": "0ARFNefWgooD"
      },
      "source": [
        "Задача 1\n",
        "\n",
        "О непрерывной равномерно распределенной случайной величине B известно, что ее дисперсия равна 0.2. Можно ли найти правую границу величины B и ее среднее значение зная, что левая граница равна 0.5? Если да, найдите ее."
      ]
    },
    {
      "cell_type": "code",
      "metadata": {
        "colab": {
          "base_uri": "https://localhost:8080/"
        },
        "id": "cjbRtS44gtcb",
        "outputId": "5aff83bf-055c-48e3-a31b-228ae4d1ded1"
      },
      "source": [
        "D = 0.2 #дисперсия\n",
        "A = 0.5 #левая граница\n",
        "\n",
        "def eq(x):\n",
        "    return ((x-A)**2/12-D)\n",
        "\n",
        "B = float(fsolve(eq, (2))) \n",
        "M = (A + B)/2\n",
        "\n",
        "print(f'Правая граница {B}')\n",
        "print(f'Математическое ожидание {M}')"
      ],
      "execution_count": 17,
      "outputs": [
        {
          "output_type": "stream",
          "name": "stdout",
          "text": [
            "Правая граница 2.049193338482981\n",
            "Математическое ожидание 1.2745966692414905\n"
          ]
        }
      ]
    },
    {
      "cell_type": "markdown",
      "metadata": {
        "id": "LGYeY8AWjWDi"
      },
      "source": [
        "Задача 2\n",
        "\n",
        "Рост взрослого населения города X имеет нормальное распределение, причем, средний рост равен 174 см, а среднее квадратическое отклонение равно 8 см. посчитайте, какова вероятность того, что случайным образом выбранный взрослый человек имеет рост:\n",
        "1. больше 182 см?\n",
        "2. больше 190 см?\n",
        "3. от 166 см до 190 см?\n",
        "4. от 166 см до 182 см?\n",
        "5. от 158 см до 190 см?\n",
        "6. не выше 150 см или не ниже 190 см?\n",
        "7. не выше 150 см или не ниже 198 см?\n",
        "8. ниже 166 см?\n",
        "\n",
        "Задачу можно решить двумя способами: без использования сторонних библиотек (numpy, scipy, pandas и пр.), а затем проверить себя с помощью встроенных функций"
      ]
    },
    {
      "cell_type": "code",
      "metadata": {
        "colab": {
          "base_uri": "https://localhost:8080/"
        },
        "id": "Pr0-OzIqjavt",
        "outputId": "b7567a11-068d-4da5-83ef-71f25a125e60"
      },
      "source": [
        "\n",
        "M = 174 #средний рост\n",
        "S = 8 #среднее квадратическое отклонение\n",
        "\n",
        "p1 = 1 - ss.norm.cdf((182 - M) / S) - ss.norm.cdf((0 - M) / S)\n",
        "p2 = 1 - ss.norm.cdf((190 - M) / S) - ss.norm.cdf((0 - M) / S)\n",
        "p3 = ss.norm.cdf((190 - M) / S) - ss.norm.cdf((166 - M) / S)\n",
        "p4 = ss.norm.cdf((182 - M) / S) - ss.norm.cdf((166 - M) / S)\n",
        "p5 = ss.norm.cdf((190 - M) / S) - ss.norm.cdf((158 - M) / S)\n",
        "p6 = (1 - ss.norm.cdf((190 - M) / S) - ss.norm.cdf((0 - M) / S)) + (ss.norm.cdf((150 - M) / S) - ss.norm.cdf((0 - M) / S))\n",
        "p7 = (1 - ss.norm.cdf((198 - M) / S) - ss.norm.cdf((0 - M) / S)) + (ss.norm.cdf((150 - M) / S) - ss.norm.cdf((0 - M) / S))\n",
        "p8 = ss.norm.cdf((166 - M) / S) - ss.norm.cdf((0 - M) / S)\n",
        "\n",
        "print('Ответ:')\n",
        "print(f'больше 182 см: {np.round(p1, 4)}')\n",
        "print(f'больше 190 см: {np.round(p2, 4)}')\n",
        "print(f'от 166 см до 190 см: {np.round(p3, 4)}')\n",
        "print(f'от 166 см до 182 см: {np.round(p4, 4)}')\n",
        "print(f'от 158 см до 190 см: {np.round(p5, 4)}')\n",
        "print(f'не выше 150 см или не ниже 190 см: {np.round(p6, 4)}')\n",
        "print(f'не выше 150 см или не ниже 198 см: {np.round(p7, 4)}')\n",
        "print(f'ниже 166 см.: {np.round(p8, 4)}')"
      ],
      "execution_count": 19,
      "outputs": [
        {
          "output_type": "stream",
          "name": "stdout",
          "text": [
            "Ответ:\n",
            " больше 182 см: 0.1587\n",
            "больше 190 см: 0.0228\n",
            "от 166 см до 190 см: 0.8186\n",
            "от 166 см до 182 см: 0.6827\n",
            "от 158 см до 190 см: 0.9545\n",
            "не выше 150 см или не ниже 190 см: 0.0241\n",
            "не выше 150 см или не ниже 198 см: 0.0027\n",
            "ниже 166 см.: 0.1587\n"
          ]
        }
      ]
    },
    {
      "cell_type": "markdown",
      "metadata": {
        "id": "yF-Ab2iFkR0z"
      },
      "source": [
        ""
      ]
    }
  ]
}