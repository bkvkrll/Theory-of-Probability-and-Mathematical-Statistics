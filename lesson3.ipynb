{
  "nbformat": 4,
  "nbformat_minor": 0,
  "metadata": {
    "colab": {
      "name": "lesson3.ipynb",
      "provenance": [],
      "authorship_tag": "ABX9TyPiZJF3PPM6nzsygit1zHN3",
      "include_colab_link": true
    },
    "kernelspec": {
      "name": "python3",
      "display_name": "Python 3"
    },
    "language_info": {
      "name": "python"
    }
  },
  "cells": [
    {
      "cell_type": "markdown",
      "metadata": {
        "id": "view-in-github",
        "colab_type": "text"
      },
      "source": [
        "<a href=\"https://colab.research.google.com/github/bkvkrll/Theory-of-Probability-and-Mathematical-Statistics/blob/main/lesson3.ipynb\" target=\"_parent\"><img src=\"https://colab.research.google.com/assets/colab-badge.svg\" alt=\"Open In Colab\"/></a>"
      ]
    },
    {
      "cell_type": "code",
      "metadata": {
        "id": "czUAV0ZBoDq7"
      },
      "source": [
        "import warnings\n",
        "\n",
        "import numpy as np\n",
        "import pandas as pd\n",
        "from matplotlib import pyplot as plt\n",
        "\n",
        "warnings.filterwarnings('ignore')"
      ],
      "execution_count": 1,
      "outputs": []
    },
    {
      "cell_type": "markdown",
      "metadata": {
        "id": "njKVZglLoSae"
      },
      "source": [
        "Задача 1\n",
        "\n",
        "Даны значения зарплат из выборки выпускников:\n",
        "\n",
        "100, 80, 75, 77, 89, 33, 45, 25, 65, 17, 30, 24, 57, 55, 70, 75, 65, 84, 90, 150.\n",
        "\n",
        "Без использования статистических функций вроде mean, std, var, посчитать среднее арифметическое, среднее квадратичное отклонение, смещенную и несмещенную оценки дисперсий для данной выборки.\n",
        "\n",
        "Можно затем посчитать те же значения с использованием статистических функций, чтобы проверить себя."
      ]
    },
    {
      "cell_type": "code",
      "metadata": {
        "colab": {
          "base_uri": "https://localhost:8080/"
        },
        "id": "Iuzcic00oknN",
        "outputId": "41240ba6-beed-4863-e751-a74740333a47"
      },
      "source": [
        "sal = np.array([100, 80, 75, 77, 89, 33, 45, 25, 65, 17, 30, 24, 57, 55, 70, 75, 65, 84, 90, 150])\n",
        "def mean(sal):\n",
        "    if len(sal) > 0:\n",
        "        mean1 = sal.sum() / len(sal)\n",
        "        mean2 = sal.mean()\n",
        "        print(f'Среднее арифметическое равно {mean1} ({mean2})')\n",
        "\n",
        "def std(sal):\n",
        "    if len(sal) > 0:\n",
        "        std1 = np.sqrt(((sal - sal.mean()) ** 2).sum() / len(sal))\n",
        "        std2 = sal.std(ddof=0)\n",
        "        print(f'Среднее квадратичное отклонение {std1} ({std2})')\n",
        "\n",
        "def var1(sal):\n",
        "    if len(sal) > 0:\n",
        "        var1 = ((sal - sal.mean()) ** 2).sum() / len(sal)\n",
        "        var2 = sal.var(ddof=0)\n",
        "        print(f'Cмещенная оценка дисперсии  {var1} ({var2})')\n",
        "\n",
        "def var2(sal):\n",
        "    if len(sal) > 0:\n",
        "        var_1 = ((sal - sal.mean()) ** 2).sum() / (len(sal) - 1)\n",
        "        var_2 = sal.var(ddof=1)\n",
        "        print(f'Несмещенная оценка дисперсии  {var_1} ({var_2})')\n",
        "\n",
        "mean(sal)\n",
        "std(sal)\n",
        "var1(sal)\n",
        "var2(sal)"
      ],
      "execution_count": 9,
      "outputs": [
        {
          "output_type": "stream",
          "name": "stdout",
          "text": [
            "Среднее арифметическое равно 65.3 (65.3)\n",
            "Среднее квадратичное отклонение 30.823854398825596 (30.823854398825596)\n",
            "Cмещенная оценка дисперсии  950.11 (950.11)\n",
            "Несмещенная оценка дисперсии  1000.1157894736842 (1000.1157894736842)\n"
          ]
        }
      ]
    },
    {
      "cell_type": "markdown",
      "metadata": {
        "id": "ss-Q70KOq3Vh"
      },
      "source": [
        "Задача 2\n",
        "\n",
        "Для выборки из задачи 1 найти первый и третий квартили, интерквартильное расстояние. Найти выборсы в выборке, используя для этого \"усы\" из boxplot. В этой задаче можно использовать статистические функции."
      ]
    },
    {
      "cell_type": "code",
      "metadata": {
        "colab": {
          "base_uri": "https://localhost:8080/"
        },
        "id": "Uq3GeaRdq69U",
        "outputId": "42fde2bf-98ea-4b39-990d-9e78cae0bcac"
      },
      "source": [
        "\n",
        "df_sal = pd.DataFrame(sal)\n",
        "q1 = df_sal[0].quantile(0.25)\n",
        "q3 = df_sal[0].quantile(0.75)\n",
        "iqr = q3 - q1\n",
        "\n",
        "print(f'Первый квартиль: {q1}')\n",
        "print(f'Трейтий квартиль: {q3}')\n",
        "print(f'Интерквартильное расстояние: {iqr}')"
      ],
      "execution_count": 10,
      "outputs": [
        {
          "output_type": "stream",
          "name": "stdout",
          "text": [
            "Первый квартиль: 42.0\n",
            "Трейтий квартиль: 81.0\n",
            "Интерквартильное расстояние: 39.0\n"
          ]
        }
      ]
    },
    {
      "cell_type": "code",
      "metadata": {
        "colab": {
          "base_uri": "https://localhost:8080/",
          "height": 282
        },
        "id": "Da6fQt5GrXiZ",
        "outputId": "e4945f73-bf54-4513-ac38-77a1e380a17e"
      },
      "source": [
        "df_sal.boxplot()"
      ],
      "execution_count": 11,
      "outputs": [
        {
          "output_type": "execute_result",
          "data": {
            "text/plain": [
              "<matplotlib.axes._subplots.AxesSubplot at 0x7f2a7dd9fbd0>"
            ]
          },
          "metadata": {},
          "execution_count": 11
        },
        {
          "output_type": "display_data",
          "data": {
            "image/png": "[encoded data removed]",
            "text/plain": [
              "<Figure size 432x288 with 1 Axes>"
            ]
          },
          "metadata": {
            "needs_background": "light"
          }
        }
      ]
    },
    {
      "cell_type": "code",
      "metadata": {
        "colab": {
          "base_uri": "https://localhost:8080/"
        },
        "id": "7JlIQzSEtwsK",
        "outputId": "01de8487-ce0f-470c-a1d2-32592a4dab8c"
      },
      "source": [
        "boxplot = (q1 - 1.5 * iqr, q3 + 1.5 * iqr)\n",
        "outliers = df_sal.loc[(df_sal[0] < boxplot[0]) | (df_sal[0] > boxplot[1])]\n",
        "print(f'Выбросы: {outliers[0].value_counts()}')"
      ],
      "execution_count": 14,
      "outputs": [
        {
          "output_type": "stream",
          "name": "stdout",
          "text": [
            "Выбросы: 150    1\n",
            "Name: 0, dtype: int64\n"
          ]
        }
      ]
    },
    {
      "cell_type": "markdown",
      "metadata": {
        "id": "3i3yKFfbuHQR"
      },
      "source": [
        "Задача 3\n",
        "\n",
        "В университет на факультеты A и B поступило равное количество студентов, а на факультет C студентов поступило столько же, сколько на A и B вместе. Вероятность того, что студент факультета A сдаст первую сессию, равна 0.8. Для студента факультета B эта вероятность равна 0.7, а для студента факультета C - 0.9. Студент сдал первую сессию. Какова вероятность, что он учится: a) на факультете A? б) на факультете B? в) на факультете C?\n",
        "\n",
        "Замечание: да, эта задача не на тему описательных статистик, но тема важная, и её стоит иногда освежать в памяти."
      ]
    },
    {
      "cell_type": "code",
      "metadata": {
        "colab": {
          "base_uri": "https://localhost:8080/"
        },
        "id": "GVx-kwsKuLNs",
        "outputId": "c6a8e674-72ba-464c-94eb-41aa02ee0eca"
      },
      "source": [
        "a=0.8 #Вероятность того, что студент факультета A сдаст первую сессию\n",
        "b=0.7 #Вероятность того, что студент факультета B сдаст первую сессию\n",
        "c=0.9 #Вероятность того, что студент факультета C сдаст первую сессию\n",
        "pa=0.25 #Вероятность, что учится на факультете А\n",
        "pb=0.25 #Вероятность, что учится на факультете B\n",
        "pc=0.5 #Вероятность, что учится на факультете C\n",
        "p=a*pa+b*pb+c*pc #Полная вероятность\n",
        "print(f'Вероятность, что студент учится на факультете A: {a*pa/p}')\n",
        "print(f'Вероятность, что студент учится на факультете B: {b*pb/p}')\n",
        "print(f'Вероятность, что студент учится на факультете C: {c*pc/p}')"
      ],
      "execution_count": 16,
      "outputs": [
        {
          "output_type": "stream",
          "name": "stdout",
          "text": [
            "Вероятность, что студент учится на факультете A: 0.24242424242424246\n",
            "Вероятность, что студент учится на факультете B: 0.21212121212121213\n",
            "Вероятность, что студент учится на факультете C: 0.5454545454545455\n"
          ]
        }
      ]
    }
  ]
}