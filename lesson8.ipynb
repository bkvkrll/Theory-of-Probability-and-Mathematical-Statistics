{
  "nbformat": 4,
  "nbformat_minor": 0,
  "metadata": {
    "colab": {
      "name": "lesson8.ipynb",
      "provenance": [],
      "authorship_tag": "ABX9TyO9u7/KaYgiWTp6njhv7yCJ",
      "include_colab_link": true
    },
    "kernelspec": {
      "name": "python3",
      "display_name": "Python 3"
    },
    "language_info": {
      "name": "python"
    }
  },
  "cells": [
    {
      "cell_type": "markdown",
      "metadata": {
        "id": "view-in-github",
        "colab_type": "text"
      },
      "source": [
        "<a href=\"https://colab.research.google.com/github/bkvkrll/Theory-of-Probability-and-Mathematical-Statistics/blob/main/lesson8.ipynb\" target=\"_parent\"><img src=\"https://colab.research.google.com/assets/colab-badge.svg\" alt=\"Open In Colab\"/></a>"
      ]
    },
    {
      "cell_type": "markdown",
      "metadata": {
        "id": "qN-dzCVnh1Fv"
      },
      "source": [
        "Задача 1\n",
        "\n",
        "Провести дисперсионный анализ для определения того, есть ли различия среднего роста среди взрослых футболистов, хоккеистов и штангистов. Даны значения роста в трех группах случайно выбранных спортсменов:\n",
        "\n",
        "football_players = [173, 175, 180, 178, 177, 185, 183, 182]\n",
        "hockey_players = [177, 179, 180, 188, 177, 172, 171, 184, 180]\n",
        "lifters = [172, 173, 169, 177, 166, 180, 178, 177, 172, 166, 170]"
      ]
    },
    {
      "cell_type": "code",
      "metadata": {
        "id": "LrEwSVdAhot6"
      },
      "source": [
        "import numpy as np\n",
        "import pandas as pd\n",
        "from scipy import stats"
      ],
      "execution_count": 1,
      "outputs": []
    },
    {
      "cell_type": "code",
      "metadata": {
        "id": "-5dmiQ7_h7Bw"
      },
      "source": [
        "football_players = np.array([173, 175, 180, 178, 177, 185, 183, 182])\n",
        "hockey_players= np.array([177, 179, 180, 188, 177, 172, 171, 184, 180])\n",
        "lifters = np.array([172, 173, 169, 177, 166, 180, 178, 177, 172, 166, 170])"
      ],
      "execution_count": 2,
      "outputs": []
    },
    {
      "cell_type": "code",
      "metadata": {
        "id": "oTNaMsnPh9pl"
      },
      "source": [
        "#определяем среднее по каждой выборке\n",
        "fp_mean = football_players.mean()\n",
        "hp_mean = hockey_players.mean()\n",
        "lf_mean = lifters.mean()"
      ],
      "execution_count": 3,
      "outputs": []
    },
    {
      "cell_type": "code",
      "metadata": {
        "id": "xqMwr7u3iK8B"
      },
      "source": [
        "#среднее по всем наблюдениям\n",
        "height = np.concatenate([football_players, hockey_players, lifters])\n",
        "height_mean = height.mean()"
      ],
      "execution_count": 4,
      "outputs": []
    },
    {
      "cell_type": "code",
      "metadata": {
        "colab": {
          "base_uri": "https://localhost:8080/"
        },
        "id": "mFCzl3OCiWlQ",
        "outputId": "92e26716-2640-4ced-c333-883b4e7081c3"
      },
      "source": [
        "S2_F = football_players.shape[0] * (fp_mean - height_mean) ** 2 + hockey_players.shape[0] * (hp_mean - height_mean) ** 2 + lifters.shape[0] * (lf_mean - height_mean) ** 2\n",
        "S2_res = ((football_players - fp_mean)**2).sum() + ((hockey_players - hp_mean) ** 2).sum() + ((lifters - lf_mean) ** 2).sum()\n",
        "\n",
        "S2_F, S2_res"
      ],
      "execution_count": 5,
      "outputs": [
        {
          "output_type": "execute_result",
          "data": {
            "text/plain": [
              "(253.9074675324678, 577.0568181818182)"
            ]
          },
          "metadata": {},
          "execution_count": 5
        }
      ]
    },
    {
      "cell_type": "code",
      "metadata": {
        "colab": {
          "base_uri": "https://localhost:8080/"
        },
        "id": "91wXidiBiZ6A",
        "outputId": "df91b1c2-38b5-43c9-8158-28bf780b0073"
      },
      "source": [
        "k = 3 #количество выборок\n",
        "n = football_players.shape[0] + hockey_players.shape[0] + lifters.shape[0]\n",
        "\n",
        "sigma2_F = S2_F / (k - 1)\n",
        "sigma2_res = S2_res / (n - k)\n",
        "\n",
        "sigma2_F, sigma2_res"
      ],
      "execution_count": 6,
      "outputs": [
        {
          "output_type": "execute_result",
          "data": {
            "text/plain": [
              "(126.9537337662339, 23.08227272727273)"
            ]
          },
          "metadata": {},
          "execution_count": 6
        }
      ]
    },
    {
      "cell_type": "code",
      "metadata": {
        "colab": {
          "base_uri": "https://localhost:8080/"
        },
        "id": "0aN5OqXpjkke",
        "outputId": "a3686b97-bc7b-4549-8458-352f716393f1"
      },
      "source": [
        "T = sigma2_F / sigma2_res\n",
        "\n",
        "alpha = 0.05\n",
        "F_crit = stats.f.ppf(1 - alpha, (k - 1), (n - k))\n",
        "\n",
        "T, F_crit\n"
      ],
      "execution_count": 7,
      "outputs": [
        {
          "output_type": "execute_result",
          "data": {
            "text/plain": [
              "(5.500053450812598, 3.3851899614491687)"
            ]
          },
          "metadata": {},
          "execution_count": 7
        }
      ]
    }
  ]
}