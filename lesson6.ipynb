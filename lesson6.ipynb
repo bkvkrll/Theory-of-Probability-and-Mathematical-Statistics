{
  "nbformat": 4,
  "nbformat_minor": 0,
  "metadata": {
    "colab": {
      "name": "lesson6.ipynb",
      "provenance": [],
      "authorship_tag": "ABX9TyO/c0O7yXnKCMLrqDbo6CS4",
      "include_colab_link": true
    },
    "kernelspec": {
      "name": "python3",
      "display_name": "Python 3"
    },
    "language_info": {
      "name": "python"
    }
  },
  "cells": [
    {
      "cell_type": "markdown",
      "metadata": {
        "id": "view-in-github",
        "colab_type": "text"
      },
      "source": [
        "<a href=\"https://colab.research.google.com/github/bkvkrll/Theory-of-Probability-and-Mathematical-Statistics/blob/main/lesson6.ipynb\" target=\"_parent\"><img src=\"https://colab.research.google.com/assets/colab-badge.svg\" alt=\"Open In Colab\"/></a>"
      ]
    },
    {
      "cell_type": "code",
      "metadata": {
        "id": "mV4gibwjh4i0"
      },
      "source": [
        "import numpy as np\n",
        "import pandas as pd\n",
        "from scipy import stats"
      ],
      "execution_count": 16,
      "outputs": []
    },
    {
      "cell_type": "markdown",
      "metadata": {
        "id": "Ggo2ctc5iILy"
      },
      "source": [
        "Задача 1\n",
        "\n",
        "Даны значения величины заработной платы заемщиков банка (salary) и значения их поведенческого кредитного скоринга (scoring):\n",
        "\n",
        "salary = [35, 45, 190, 200, 40, 70, 54, 150, 120, 110]\n",
        "scoring = [401, 574, 874, 919, 459, 739, 653, 902, 746, 832]\n",
        "\n",
        "1. Найдите ковариацию этих двух величин: сначала без использования специальных функций, а затем с помощью функции numpy.cov. Полученные значения должны быть равны.\n",
        "2. Найдите коэффициент корреляции Пирсона: с помощью ковариации и средних квадратических отклонений двух признаков, а затем с помощью специальных функций из библиотек numpy и pandas."
      ]
    },
    {
      "cell_type": "code",
      "metadata": {
        "id": "JcGnWpXziJE_"
      },
      "source": [
        "salary = np.array([35, 45, 190, 200, 40, 70, 54, 150, 120, 110])\n",
        "scoring = np.array([401, 574, 874, 919, 459, 739, 653, 902, 746, 832])"
      ],
      "execution_count": 17,
      "outputs": []
    },
    {
      "cell_type": "code",
      "metadata": {
        "id": "LIIsMe7jioMZ"
      },
      "source": [
        "def cov(X, Y, ddof=1):\n",
        "    X_mean = X.mean()\n",
        "    Y_mean = Y.mean()\n",
        "    return ((X - X_mean) * (Y - Y_mean)).sum() / (X.shape[0] - ddof)\n",
        "def std(X, ddof=1):\n",
        "    X_mean = X.mean()\n",
        "    return np.sqrt(((X - X_mean)**2).sum() / (X.shape[0] - ddof))\n",
        "\n",
        "def corr(X,Y):\n",
        "    return cov(X, Y) / (std(X) * std(Y))"
      ],
      "execution_count": 18,
      "outputs": []
    },
    {
      "cell_type": "code",
      "metadata": {
        "colab": {
          "base_uri": "https://localhost:8080/"
        },
        "id": "bxi81RNmjlyl",
        "outputId": "9d055439-febb-4d94-b40d-a5eb68357221"
      },
      "source": [
        "\n",
        "print(f'Ковариация: {cov(salary, scoring)}, {np.cov(salary, scoring)[0,1]}')\n"
      ],
      "execution_count": 19,
      "outputs": [
        {
          "output_type": "stream",
          "name": "stdout",
          "text": [
            "Ковариация: 10175.37777777778, 10175.377777777776\n"
          ]
        }
      ]
    },
    {
      "cell_type": "code",
      "metadata": {
        "colab": {
          "base_uri": "https://localhost:8080/"
        },
        "id": "enFoiTQnj-R6",
        "outputId": "1ae398a2-d43d-4b8a-92fd-d8c5dddd6f1f"
      },
      "source": [
        "print(f'Коэффициент корреляции Пирсона: {corr(salary,  scoring)}')"
      ],
      "execution_count": 20,
      "outputs": [
        {
          "output_type": "stream",
          "name": "stdout",
          "text": [
            "Коэффициент корреляции Пирсона: 0.8874900920739164\n"
          ]
        }
      ]
    },
    {
      "cell_type": "code",
      "metadata": {
        "colab": {
          "base_uri": "https://localhost:8080/"
        },
        "id": "DVZcHwQPkefJ",
        "outputId": "0cea48cc-882d-4463-a530-8a99b48ade40"
      },
      "source": [
        "d = {'salary': salary, 'scoring': scoring}\n",
        "df = pd.DataFrame(data = d)\n",
        "df_corr = df.corr()['scoring'][0]\n",
        "print(f'Коэффициент корреляции Пирсона: {df_corr:11f}')"
      ],
      "execution_count": 21,
      "outputs": [
        {
          "output_type": "stream",
          "name": "stdout",
          "text": [
            "Коэффициент корреляции Пирсона:    0.887490\n"
          ]
        }
      ]
    },
    {
      "cell_type": "markdown",
      "metadata": {
        "id": "fdKFGq9-kogo"
      },
      "source": [
        "Задача 2\n",
        "\n",
        "Измерены значения IQ выборки студентов, обучающихся в местных технических вузах:\n",
        "\n",
        "131, 125, 115, 122, 131, 115, 107, 99, 125, 111\n",
        "\n",
        "Известно, что в генеральной совокупности IQ распределен нормально. Найдите доверительный интервал для математического ожидания с надежностью 0.95."
      ]
    },
    {
      "cell_type": "code",
      "metadata": {
        "colab": {
          "base_uri": "https://localhost:8080/"
        },
        "id": "aPnqLuSmkrb2",
        "outputId": "a280ca19-93ec-4343-a53d-7a0e8435c0ef"
      },
      "source": [
        "iq = np.array([131, 125, 115, 122, 131, 115, 107, 99, 125, 111])\n",
        "X_mean = iq.mean() #среднее\n",
        "n =  iq.shape[0] #размер выборки\n",
        "t = stats.t.ppf(1-0.025,n-1) #Распределение Стьюдента\n",
        "S = std(iq, ddof=0) #среднеквадратичное отклонение\n",
        "P = [X_mean- t * S / np.sqrt(n), X_mean + t * S / np.sqrt(n)]\n",
        "print(f'Доверительный интервал: {P}')"
      ],
      "execution_count": 22,
      "outputs": [
        {
          "output_type": "stream",
          "name": "stdout",
          "text": [
            "Доверительный интервал: [110.9432125583706, 125.25678744162938]\n"
          ]
        }
      ]
    },
    {
      "cell_type": "markdown",
      "metadata": {
        "id": "zZ_wbzUMlkbN"
      },
      "source": [
        "Задача 3\n",
        "\n",
        "Известно, что рост футболистов в сборной распределен нормально с известной дисперсией 25. На выборке объёма 27 выборочное среднее составило 174.2. Найдите доверительный интервал для математического ожидания с надежностью 0.95."
      ]
    },
    {
      "cell_type": "code",
      "metadata": {
        "colab": {
          "base_uri": "https://localhost:8080/"
        },
        "id": "38cE7q8tllXZ",
        "outputId": "0cfdbe2b-d506-4d42-93b7-2f426983be49"
      },
      "source": [
        "X_mean = 174.2 #среднее\n",
        "D = 25 # дисперсия\n",
        "n = 27 #размер выборки\n",
        "sigma = np.sqrt(D/n) #  среднеквадратичное отклонение\n",
        "P = [X_mean - 2 * sigma, X_mean + 2 * sigma]\n",
        "print(f'Доверительный интервал:{P}')"
      ],
      "execution_count": 23,
      "outputs": [
        {
          "output_type": "stream",
          "name": "stdout",
          "text": [
            "Доверительный интервал:[172.27549910270125, 176.12450089729873]\n"
          ]
        }
      ]
    }
  ]
}