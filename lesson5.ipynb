{
  "nbformat": 4,
  "nbformat_minor": 0,
  "metadata": {
    "colab": {
      "name": "lesson5.ipynb",
      "provenance": [],
      "authorship_tag": "ABX9TyPqLecDIcnhRk+643yrXshh",
      "include_colab_link": true
    },
    "kernelspec": {
      "name": "python3",
      "display_name": "Python 3"
    },
    "language_info": {
      "name": "python"
    }
  },
  "cells": [
    {
      "cell_type": "markdown",
      "metadata": {
        "id": "view-in-github",
        "colab_type": "text"
      },
      "source": [
        "<a href=\"https://colab.research.google.com/github/bkvkrll/Theory-of-Probability-and-Mathematical-Statistics/blob/main/lesson5.ipynb\" target=\"_parent\"><img src=\"https://colab.research.google.com/assets/colab-badge.svg\" alt=\"Open In Colab\"/></a>"
      ]
    },
    {
      "cell_type": "code",
      "metadata": {
        "id": "q06RJUiNDSu5"
      },
      "source": [
        "import numpy as np\n",
        "from scipy import stats\n",
        "import numpy as np"
      ],
      "execution_count": 13,
      "outputs": []
    },
    {
      "cell_type": "markdown",
      "metadata": {
        "id": "e6Tn0s45DfXM"
      },
      "source": [
        "Задача 1\n",
        "\n",
        "Известно, что генеральная совокупность распределена нормально с известным средним квадратическим отклонением 16. Найти доверительный интервал для оценки математического ожидания mu с надёжностью 0.95 (доверительная информация), если выборочное среднее равно 80, а объём равен 256."
      ]
    },
    {
      "cell_type": "code",
      "metadata": {
        "colab": {
          "base_uri": "https://localhost:8080/"
        },
        "id": "AKjWJK9FDjd-",
        "outputId": "4f1718ea-b4d0-4142-d588-b795903870cd"
      },
      "source": [
        "std = 16\n",
        "mean = 80\n",
        "n = 256\n",
        "print (mean - 2*std/np.sqrt(n), mean + 2*std/np.sqrt(n))"
      ],
      "execution_count": 14,
      "outputs": [
        {
          "output_type": "stream",
          "name": "stdout",
          "text": [
            "78.0 82.0\n"
          ]
        }
      ]
    },
    {
      "cell_type": "markdown",
      "metadata": {
        "id": "r80OQnQZEesC"
      },
      "source": [
        "Задача 2\n",
        "\n",
        "Продавец утверждает, что средний вес пачки печенья составляет 200 г. Из партии извлечена выборка из 10 пачек. Вес каждой пачки составляет:\n",
        "\n",
        "202, 203, 199, 197, 195, 201, 200, 204, 194, 190\n",
        "\n",
        "Известно, что их веса распределены нормально.\n",
        "1. Верно ли утверждение продавца, если учитывать, что уровень значимости равен 1%?\n",
        "2. Найдите P-значение для данного теста."
      ]
    },
    {
      "cell_type": "code",
      "metadata": {
        "colab": {
          "base_uri": "https://localhost:8080/"
        },
        "id": "wywFR9RiEi8w",
        "outputId": "301db65d-89ab-4c0f-9123-b803a8d17f99"
      },
      "source": [
        "pack = np.array([202, 203, 199, 197, 195, 201, 200, 204, 194, 190])\n",
        "m = pack.mean()\n",
        "n = 10\n",
        "sigma = np.sqrt(((pack - m)**2).sum()/(n-1))\n",
        "print ('𝜎 =', sigma)"
      ],
      "execution_count": 15,
      "outputs": [
        {
          "output_type": "stream",
          "name": "stdout",
          "text": [
            "𝜎 = 4.453463071962462\n"
          ]
        }
      ]
    },
    {
      "cell_type": "code",
      "metadata": {
        "colab": {
          "base_uri": "https://localhost:8080/"
        },
        "id": "X9PdQvlEGTj6",
        "outputId": "bad35b27-24d5-49bb-8e56-d3be0f02d2f1"
      },
      "source": [
        "t_int = 2.8214 #значение коэффициента Стьюдента\n",
        "t = stats.t(n-1)\n",
        "t.cdf(2.8214)"
      ],
      "execution_count": 16,
      "outputs": [
        {
          "output_type": "execute_result",
          "data": {
            "text/plain": [
              "0.9899993808040004"
            ]
          },
          "metadata": {},
          "execution_count": 16
        }
      ]
    },
    {
      "cell_type": "code",
      "metadata": {
        "colab": {
          "base_uri": "https://localhost:8080/"
        },
        "id": "EW9rRiAJFKPT",
        "outputId": "98f9334c-2a34-40db-c7ad-9fd17a09f8fe"
      },
      "source": [
        "print ('Доверительный интервал', (m - t_int*sigma/np.sqrt(n), m + t_int*sigma/np.sqrt(n)))"
      ],
      "execution_count": 17,
      "outputs": [
        {
          "output_type": "stream",
          "name": "stdout",
          "text": [
            "Доверительный интервал (194.5265978950862, 202.4734021049138)\n"
          ]
        }
      ]
    },
    {
      "cell_type": "markdown",
      "metadata": {
        "id": "MraQ5PGTGeBO"
      },
      "source": [
        "\n",
        "Т.к. доверительный интервал включает значение предполагаемого среднего значения а = 200, делаем вывод, что утверждение продавца верно."
      ]
    },
    {
      "cell_type": "markdown",
      "metadata": {
        "id": "_Lnr5dutGsr8"
      },
      "source": [
        "Задача 3\n",
        "\n",
        "Утверждается, что шарики для подшипников, изготовленные автоматическим станком, имеют средний диаметр 17 мм. Используя уровень значимости 0.025 и правостороннюю критическую область, проверить данную гипотезу при условии, что в выборке из 100 шариков средний диаметр оказался равным 17.5 мм, а дисперсия известна и равна 4 мм."
      ]
    },
    {
      "cell_type": "markdown",
      "metadata": {
        "id": "d3QxNb6oKBnG"
      },
      "source": [
        "Основная гипотеза: средний диаметр шарика для подшипников равен 17 мм.\n",
        "\n",
        "Альтернативная гипотеза: средний диаметр шарика для подшипников больше 17 мм."
      ]
    },
    {
      "cell_type": "code",
      "metadata": {
        "colab": {
          "base_uri": "https://localhost:8080/"
        },
        "id": "irX8N1HCG3sX",
        "outputId": "8a53c888-3723-4208-b0c0-90d5f5317dbc"
      },
      "source": [
        "a = 17 #средний диаметр\n",
        "m = 17.5 #средний диаметр в выборке\n",
        "n = 100 #выборка\n",
        "D = 4 #дисперсия\n",
        "sigma = np.sqrt(D/n)\n",
        "sigma"
      ],
      "execution_count": 18,
      "outputs": [
        {
          "output_type": "execute_result",
          "data": {
            "text/plain": [
              "0.2"
            ]
          },
          "metadata": {},
          "execution_count": 18
        }
      ]
    },
    {
      "cell_type": "code",
      "metadata": {
        "id": "hNNG625OJkTn"
      },
      "source": [
        "alpha = 0.05 #допустимая вероятность ошибки первого рода"
      ],
      "execution_count": 19,
      "outputs": []
    },
    {
      "cell_type": "code",
      "metadata": {
        "colab": {
          "base_uri": "https://localhost:8080/"
        },
        "id": "QP-A95ubJqs1",
        "outputId": "e9d3f8d0-d40a-4728-f078-dd665e016275"
      },
      "source": [
        "(a - 2 * sigma, a + 2 * sigma) #критическая область"
      ],
      "execution_count": 20,
      "outputs": [
        {
          "output_type": "execute_result",
          "data": {
            "text/plain": [
              "(16.6, 17.4)"
            ]
          },
          "metadata": {},
          "execution_count": 20
        }
      ]
    },
    {
      "cell_type": "code",
      "metadata": {
        "colab": {
          "base_uri": "https://localhost:8080/"
        },
        "id": "WAQwX2zhKxLz",
        "outputId": "572185ab-d0a4-493e-a7e5-2300d29e6f2d"
      },
      "source": [
        "stats.norm.ppf(1 - 0.025, 17, 0.2) #статистический тест"
      ],
      "execution_count": 21,
      "outputs": [
        {
          "output_type": "execute_result",
          "data": {
            "text/plain": [
              "17.39199279690801"
            ]
          },
          "metadata": {},
          "execution_count": 21
        }
      ]
    },
    {
      "cell_type": "markdown",
      "metadata": {
        "id": "GrQM6dHgK1MR"
      },
      "source": [
        "Гипотеза о том, что шарики имеют средний диаметр 17 мм, при выбранном уровне значимости 0.025 отвергается."
      ]
    }
  ]
}